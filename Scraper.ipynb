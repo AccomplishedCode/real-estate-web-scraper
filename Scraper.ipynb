{
 "cells": [
  {
   "cell_type": "code",
   "execution_count": 1,
   "metadata": {},
   "outputs": [],
   "source": [
    "from bs4 import BeautifulSoup\n",
    "from requests import get\n",
    "import pandas as pd\n",
    "import itertools\n",
    "import matplotlib.pyplot as plt\n",
    "import seaborn as sns\n",
    "from selenium import webdriver\n",
    "from selenium.webdriver.common.keys import Keys\n",
    "from selenium.webdriver.support.ui import WebDriverWait\n",
    "import re\n",
    "import os\n",
    "sns.set()"
   ]
  },
  {
   "cell_type": "code",
   "execution_count": 2,
   "metadata": {},
   "outputs": [],
   "source": [
    "peep=\"https://www.sulekha.com/apartments-flats-for-sale/delhi\"\n",
    "headers = ({'User-Agent':\n",
    "            'Mozilla/5.0 (Windows NT 6.1) AppleWebKit/537.36 (KHTML, like Gecko) Chrome/41.0.2228.0 Safari/537.36'})\n"
   ]
  },
  {
   "cell_type": "code",
   "execution_count": 3,
   "metadata": {},
   "outputs": [],
   "source": [
    "# Firefox session\n",
    "driver = webdriver.Firefox()\n",
    "driver.get(peep)\n"
   ]
  },
  {
   "cell_type": "code",
   "execution_count": 4,
   "metadata": {},
   "outputs": [],
   "source": [
    "from selenium.webdriver.common.by import By\n",
    "from selenium.webdriver.support import expected_conditions as EC\n",
    "from selenium.webdriver import ActionChains\n",
    "from selenium.common.exceptions import NoSuchElementException,TimeoutException"
   ]
  },
  {
   "cell_type": "code",
   "execution_count": 5,
   "metadata": {},
   "outputs": [],
   "source": [
    "import time"
   ]
  },
  {
   "cell_type": "code",
   "execution_count": 6,
   "metadata": {},
   "outputs": [],
   "source": [
    "def scroll_shim(passed_in_driver, object):\n",
    "        x = object.location['x']\n",
    "        y = object.location['y']\n",
    "        scroll_by_coord = 'window.scrollTo(%s,%s);' % (\n",
    "            x,\n",
    "            y\n",
    "        )\n",
    "        scroll_nav_out_of_way = 'window.scrollBy(0, -120);'\n",
    "        passed_in_driver.execute_script(scroll_by_coord)\n",
    "        passed_in_driver.execute_script(scroll_nav_out_of_way)"
   ]
  },
  {
   "cell_type": "code",
   "execution_count": 22,
   "metadata": {},
   "outputs": [
    {
     "name": "stdout",
     "output_type": "stream",
     "text": [
      "Click Error: Message: (805, 3225) is out of bounds of viewport width (1283) and height (699)\n",
      "\n",
      "Complete\n"
     ]
    }
   ],
   "source": [
    "# navigate to link\n",
    "\n",
    "#WebDriverWait(driver, 10).until(EC.visibility_of_element_located((By.XPATH, '/html/body/div[1]/div[4]/div[2]/div/div[2]/div[2]/div[2]/div[22]')))\n",
    "while True:\n",
    "    #driver.execute_script(\"window.scrollTo(0, document.body.scrollHeight);var lenOfPage=document.body.scrollHeight;return lenOfPage;\")\n",
    "    #driver.execute_script(\"window.scrollTo(0,document.body.scrollHeight);\")\n",
    "    try:\n",
    "        \n",
    "\n",
    "        time.sleep(1)\n",
    "        source_element = driver.find_element_by_xpath('/html/body/div/section[1]/div/div[3]/div[2]/div/a')\n",
    "        if 'firefox' in driver.capabilities['browserName']:\n",
    "            scroll_shim(driver, source_element)\n",
    "# scroll_shim is just scrolling it into view, you still need to hover over it to click using an action chain.\n",
    "        actions = ActionChains(driver)\n",
    "        actions.move_to_element(source_element)\n",
    "        actions.click()\n",
    "        actions.perform()\n",
    "        \n",
    "        \n",
    "    except Exception as e:\n",
    "        print ('Click Error:', e)\n",
    "    \n",
    "        \n",
    "        \n",
    "        break\n",
    "print(\"Complete\")\n",
    "\n",
    "#b = raw_input('Press any button to close')\n",
    "#driver.close()\n",
    "#driver.quit()\n",
    "       \n",
    "\n"
   ]
  },
  {
   "cell_type": "code",
   "execution_count": 14,
   "metadata": {},
   "outputs": [],
   "source": [
    "html = driver.page_source"
   ]
  },
  {
   "cell_type": "code",
   "execution_count": 15,
   "metadata": {},
   "outputs": [],
   "source": [
    "from bs4 import BeautifulSoup\n",
    "import itertools\n",
    "import matplotlib.pyplot as plt\n",
    "\n",
    "\n",
    "\n",
    "\n"
   ]
  },
  {
   "cell_type": "code",
   "execution_count": 26,
   "metadata": {},
   "outputs": [
    {
     "name": "stdout",
     "output_type": "stream",
     "text": [
      "<html data-build-time=\"Wed Jun 06 2018 10:59:26\"><head><title>Flats for Sale in Delhi, Apartments for Sale | Sulekha Delhi</title><meta name=\"description\" content=\"Find apartments for sale in Delhi - Search residential flats, ready to move flats, new projects by ✓Budget ✓BHK Type ✓Locality ✓Amenities ✓Features. View listing landmark, prices, possession date, map, photos, features and use our detailed filters to find the perfect home.\"><meta name=\"keywords\" content=\"flats for sale in delhi,apartments in delhi,book flats in delhi,apartments for sale in delhi,buy flat in delhi,apartments near me,flats near me,buy apartment in delhi\"><meta charset=\"UTF-8\"><link rel=\"canonical\" href=\"https://www.sulekha.com/apartments-flats-for-sale/delhi\"><meta name=\"distribution\" content=\"global\"><meta http-equiv=\"content-language\" content=\"en-gb\"><link rel=\"manifest\" href=\"/manifest.json\"><meta name=\"city\" content=\"Delhi\"><meta name=\"state\" content=\"Delhi\"><meta name=\"geo.region\" content=\"IN-DL\"><meta name=\"geo.placename\" content=\"Delhi\"><meta name=\"DC.title\" content=\"Apartments / Flats For Sale in Delhi\"><meta name=\"geo.position\" content=\"28.635308;77.224960\"><meta property=\"og:see_also\" content=\"https://www.sulekha.com/2-bhk-apartments-flats-for-sale/delhi\"><meta property=\"og:see_also\" content=\"https://www.sulekha.com/1-bhk-apartments-flats-for-sale/delhi\"><meta property=\"og:see_also\" content=\"https://www.sulekha.com/4-bhk-apartments-flats-for-sale/delhi\"><meta property=\"og:see_also\" content=\"https://www.sulekha.com/apartments-flats-for-sale/dwarka-delhi\"><meta http-equiv=\"X-UA-Compatible\" content=\"IE=edge\"><meta property=\"al:web:url\" content=\"https://www.sulekha.com/apartments-flats-for-sale/delhi\"><link rel=\"shortcut icon\" href=\"//sulcdn.azureedge.net/content/images/favicon.ico\"><meta name=\"copyright\" content=\"Sulekha\"><meta property=\"fb:app_id\" content=\"77097710699\"><meta property=\"og:title\" content=\"Flats for Sale in Delhi, Apartments for Sale | Sulekha Delhi\"><meta property=\"og\n"
     ]
    }
   ],
   "source": [
    "print(html[:2000])"
   ]
  },
  {
   "cell_type": "code",
   "execution_count": 23,
   "metadata": {},
   "outputs": [],
   "source": [
    "html1 = driver.execute_script(\"return document.body.outerHTML;\")"
   ]
  },
  {
   "cell_type": "code",
   "execution_count": 24,
   "metadata": {},
   "outputs": [],
   "source": [
    "html_soup = BeautifulSoup(html1, 'html.parser')"
   ]
  },
  {
   "cell_type": "code",
   "execution_count": 25,
   "metadata": {},
   "outputs": [],
   "source": [
    "house_containers = html_soup.find_all('div', class_=\"wraper flatimage\")\n"
   ]
  },
  {
   "cell_type": "code",
   "execution_count": 26,
   "metadata": {},
   "outputs": [
    {
     "data": {
      "text/plain": [
       "1415"
      ]
     },
     "execution_count": 26,
     "metadata": {},
     "output_type": "execute_result"
    }
   ],
   "source": [
    "len(house_containers)"
   ]
  },
  {
   "cell_type": "code",
   "execution_count": 127,
   "metadata": {},
   "outputs": [
    {
     "data": {
      "text/plain": [
       "<div class=\"wraper flatimage\"><div class=\"head\"><span class=\"sponsor\">Sponsored</span><div class=\"headgroup\"><div class=\"images\"><figure class=\"showGalary\" data-id=\"268032667\" data-media=\"1\"><img alt=\"2 BHK Flat for Sale in Sector 106\" class=\"lazy\" data-original=\"https://cdnspimgsulekhalive.azureedge.net/cdn/localservice/realestateproject/9600/project-images/thumbnail/2019_10_08_04_23_25_122_2.jpg\" src=\"https://cdnspimgsulekhalive.azureedge.net/cdn/localservice/realestateproject/9600/project-images/thumbnail/2019_10_08_04_23_25_122_2.jpg\" style=\"display: block;\"/> <span class=\"count f-icon\">2</span></figure></div><a class=\"bizlinkurl\" href=\"/apartments-flats-for-sale/1250-sqft-2-bhk-flat-for-sale-in-sector-106-noida-268032667-ad\" tabindex=\"0\" target=\"_blank\" title=\"2 BHK Flat for Sale in Sector 106\"><h3>2 BHK Flat for Sale in Sector 106</h3></a> <span class=\"allunits\" data-bsnsid=\"10415897\" data-id=\"268032667\" data-prjid=\"268032666\" id=\"showprojectunits\">View all Units</span><div class=\"listunits hide\" id=\"divProjectUnits_268032667268032666\"></div><div class=\"locality\"><span class=\"location f-icon\"> Sector 106, Noida</span> <span class=\"map\"> <a class=\"viewMap\" data-adress=\"\" data-area=\"Sector 106\" data-cid=\"2820910\" data-name=\"Ghatotkacha Greens\" data-title=\"Ghatotkacha Greens, Sector 106, Noida\" href=\"javascript:void(0)\" id=\"28.5355161_77.3910265\" tabindex=\"0\" title=\"Get Direction to Ghatotkacha Greens\">View Map</a> </span></div><div class=\"posted\"><span> <span> <i>Project: </i> <a href=\"/ghatotkacha-greens-in-sector-106-noida-268032666-pd\" tabindex=\"0\" target=\"_blank\" title=\"Ghatotkacha Greens\">Ghatotkacha Greens</a></span> </span></div></div><div class=\"amenities flat\"><span class=\"price primary\"> <span> <i class=\"f-icon\"> 28 Lakhs </i> </span> </span> <span class=\"feature primary\"> <span> <i>Config</i> 2 BHK Residential Apartment </span> <span> <i>Sale Type</i> New </span> <span> <i>Built-up Area</i> 1050 Sq Feet </span> <span> <i>Age Of Construction</i> &lt; 1 Year </span> </span></div><div class=\"spec flat\"><span><i class=\"hub-rupee\"></i>2241 / Sq Feet</span> <span>2 car park</span> <span>2 Total Floors</span> <span>2 bath</span> <span>Semi Furnished</span></div><div class=\"spec icon primary\"><span><i class=\"hub-water\"></i>Corporation water</span> <span><i class=\"hub-club-house2\"></i>Club house</span> <span><i class=\"hub-pipped-gas\"></i>Piped gas</span> <span>+6 Amenities</span></div></div><a class=\"buztitle\" href=\"https://www.sulekha.com/sp-pg-hostel-tuticorin-h-o-tuticorin-contact-address\" tabindex=\"0\" target=\"_blank\" title=\"SP PG hostel\">SP PG hostel (Builder)</a><div class=\"ratings\"><span class=\"star3.5 small\"><span><i></i></span></span> <span>117 Reviews</span> <span class=\"score\"> <strong>5.5</strong> </span> <span class=\"flag f-icon miracle\"></span></div><div class=\"body\"><p class=\"icon-about f-icon propcontent\" data-height=\"120\" data-line=\"2\" style=\"max-height: 48px;\">Presenting a marvelous, Semi Furnished 2 BHK Ready to occupy Flat for Sale in Sector 106, where you can enjoy the pollution free, vigorous and prestigious lifestyle in the sophisticated locality of Noida. The Flat has bank approvals. This Gated Community residential property has Vitrified tiles flooring. It is Vaastu compliant and offers amenities like Corporation water, Club house, Piped gas, Medical center, Rain water harvesting, Drainage facility, 24*7 power backup, Lifts, Gym. An excellent investment for family purpose as the space is airy and has a friendly neighborhood.</p><a class=\"propmore\" tab-index=\"0\">Read More</a></div><div class=\"foot btn-group left\"><div><button class=\"btn-t f-icon sms btn-resp response\" data-admode=\"40\" data-city-name=\"Noida\" data-classtype=\"RealEstateAd\" data-contentid=\"268032667\" data-id=\"268032667|10415897|268032666\" data-isresponded=\"0\" data-pneedid=\"62300\" data-rstype=\"1\">Send SMS</button> <button class=\"btn-p f-icon viewcontact btn-resp response\" data-admode=\"40\" data-city-name=\"Noida\" data-classtype=\"RealEstateAd\" data-contentid=\"268032667\" data-id=\"268032667|10415897|268032666\" data-isresponded=\"0\" data-pneedid=\"62300\" data-rstype=\"2\">View Contact</button></div></div></div>"
      ]
     },
     "execution_count": 127,
     "metadata": {},
     "output_type": "execute_result"
    }
   ],
   "source": [
    "first = house_containers[1]\n",
    "\n",
    "first"
   ]
  },
  {
   "cell_type": "code",
   "execution_count": 128,
   "metadata": {},
   "outputs": [
    {
     "data": {
      "text/plain": [
       "'   28 Lakhs   '"
      ]
     },
     "execution_count": 128,
     "metadata": {},
     "output_type": "execute_result"
    }
   ],
   "source": [
    "price = first.find_all('span', class_=\"price primary\")[0].text\n",
    "price"
   ]
  },
  {
   "cell_type": "code",
   "execution_count": 129,
   "metadata": {},
   "outputs": [
    {
     "data": {
      "text/plain": [
       "28"
      ]
     },
     "execution_count": 129,
     "metadata": {},
     "output_type": "execute_result"
    }
   ],
   "source": [
    "price=price.strip()\n",
    "price=int(''.join(itertools.takewhile(str.isdigit, price)))\n",
    "price"
   ]
  },
  {
   "cell_type": "code",
   "execution_count": 130,
   "metadata": {},
   "outputs": [
    {
     "data": {
      "text/plain": [
       "' 2 BHK Residential Apartment '"
      ]
     },
     "execution_count": 130,
     "metadata": {},
     "output_type": "execute_result"
    }
   ],
   "source": [
    "config= first.find_all('span', class_=\"feature primary\")[0].i.next_sibling\n",
    "config"
   ]
  },
  {
   "cell_type": "code",
   "execution_count": 131,
   "metadata": {},
   "outputs": [
    {
     "data": {
      "text/plain": [
       "'2 BHK Residential Apartment'"
      ]
     },
     "execution_count": 131,
     "metadata": {},
     "output_type": "execute_result"
    }
   ],
   "source": [
    "config=config.strip()\n",
    "config"
   ]
  },
  {
   "cell_type": "code",
   "execution_count": 132,
   "metadata": {},
   "outputs": [
    {
     "data": {
      "text/plain": [
       "'2 BHK'"
      ]
     },
     "execution_count": 132,
     "metadata": {},
     "output_type": "execute_result"
    }
   ],
   "source": [
    "config=config[:5]\n",
    "config"
   ]
  },
  {
   "cell_type": "code",
   "execution_count": 133,
   "metadata": {},
   "outputs": [
    {
     "data": {
      "text/plain": [
       "[<span class=\"sponsor\">Sponsored</span>,\n",
       " <span class=\"count f-icon\">2</span>,\n",
       " <span class=\"allunits\" data-bsnsid=\"10415897\" data-id=\"268032667\" data-prjid=\"268032666\" id=\"showprojectunits\">View all Units</span>,\n",
       " <span class=\"location f-icon\"> Sector 106, Noida</span>,\n",
       " <span class=\"map\"> <a class=\"viewMap\" data-adress=\"\" data-area=\"Sector 106\" data-cid=\"2820910\" data-name=\"Ghatotkacha Greens\" data-title=\"Ghatotkacha Greens, Sector 106, Noida\" href=\"javascript:void(0)\" id=\"28.5355161_77.3910265\" tabindex=\"0\" title=\"Get Direction to Ghatotkacha Greens\">View Map</a> </span>,\n",
       " <span> <span> <i>Project: </i> <a href=\"/ghatotkacha-greens-in-sector-106-noida-268032666-pd\" tabindex=\"0\" target=\"_blank\" title=\"Ghatotkacha Greens\">Ghatotkacha Greens</a></span> </span>,\n",
       " <span> <i>Project: </i> <a href=\"/ghatotkacha-greens-in-sector-106-noida-268032666-pd\" tabindex=\"0\" target=\"_blank\" title=\"Ghatotkacha Greens\">Ghatotkacha Greens</a></span>,\n",
       " <span class=\"price primary\"> <span> <i class=\"f-icon\"> 28 Lakhs </i> </span> </span>,\n",
       " <span> <i class=\"f-icon\"> 28 Lakhs </i> </span>,\n",
       " <span class=\"feature primary\"> <span> <i>Config</i> 2 BHK Residential Apartment </span> <span> <i>Sale Type</i> New </span> <span> <i>Built-up Area</i> 1050 Sq Feet </span> <span> <i>Age Of Construction</i> &lt; 1 Year </span> </span>,\n",
       " <span> <i>Config</i> 2 BHK Residential Apartment </span>,\n",
       " <span> <i>Sale Type</i> New </span>,\n",
       " <span> <i>Built-up Area</i> 1050 Sq Feet </span>,\n",
       " <span> <i>Age Of Construction</i> &lt; 1 Year </span>,\n",
       " <span><i class=\"hub-rupee\"></i>2241 / Sq Feet</span>,\n",
       " <span>2 car park</span>,\n",
       " <span>2 Total Floors</span>,\n",
       " <span>2 bath</span>,\n",
       " <span>Semi Furnished</span>,\n",
       " <span><i class=\"hub-water\"></i>Corporation water</span>,\n",
       " <span><i class=\"hub-club-house2\"></i>Club house</span>,\n",
       " <span><i class=\"hub-pipped-gas\"></i>Piped gas</span>,\n",
       " <span>+6 Amenities</span>,\n",
       " <span class=\"star3.5 small\"><span><i></i></span></span>,\n",
       " <span><i></i></span>,\n",
       " <span>117 Reviews</span>,\n",
       " <span class=\"score\"> <strong>5.5</strong> </span>,\n",
       " <span class=\"flag f-icon miracle\"></span>]"
      ]
     },
     "execution_count": 133,
     "metadata": {},
     "output_type": "execute_result"
    }
   ],
   "source": [
    "all_=first.find_all('span')\n",
    "all_"
   ]
  },
  {
   "cell_type": "code",
   "execution_count": 134,
   "metadata": {},
   "outputs": [
    {
     "data": {
      "text/plain": [
       "' New '"
      ]
     },
     "execution_count": 134,
     "metadata": {},
     "output_type": "execute_result"
    }
   ],
   "source": [
    "sale_type= first.find_all('span')[11].i.next_sibling\n",
    "sale_type"
   ]
  },
  {
   "cell_type": "code",
   "execution_count": 135,
   "metadata": {},
   "outputs": [
    {
     "data": {
      "text/plain": [
       "'New'"
      ]
     },
     "execution_count": 135,
     "metadata": {},
     "output_type": "execute_result"
    }
   ],
   "source": [
    "sale_type=sale_type.strip()\n",
    "sale_type"
   ]
  },
  {
   "cell_type": "code",
   "execution_count": 136,
   "metadata": {},
   "outputs": [
    {
     "data": {
      "text/plain": [
       "' 1050 Sq Feet '"
      ]
     },
     "execution_count": 136,
     "metadata": {},
     "output_type": "execute_result"
    }
   ],
   "source": [
    "area=first.find_all('span')[12].i.next_sibling\n",
    "area"
   ]
  },
  {
   "cell_type": "code",
   "execution_count": 137,
   "metadata": {},
   "outputs": [
    {
     "data": {
      "text/plain": [
       "'1050 Sq Feet'"
      ]
     },
     "execution_count": 137,
     "metadata": {},
     "output_type": "execute_result"
    }
   ],
   "source": [
    "area=area.strip()\n",
    "area"
   ]
  },
  {
   "cell_type": "code",
   "execution_count": 138,
   "metadata": {},
   "outputs": [],
   "source": [
    "area=float(''.join(itertools.takewhile(str.isdigit, area)))"
   ]
  },
  {
   "cell_type": "code",
   "execution_count": 139,
   "metadata": {},
   "outputs": [
    {
     "data": {
      "text/plain": [
       "1050.0"
      ]
     },
     "execution_count": 139,
     "metadata": {},
     "output_type": "execute_result"
    }
   ],
   "source": [
    "area"
   ]
  },
  {
   "cell_type": "code",
   "execution_count": 140,
   "metadata": {},
   "outputs": [
    {
     "data": {
      "text/plain": [
       "' < 1 Year '"
      ]
     },
     "execution_count": 140,
     "metadata": {},
     "output_type": "execute_result"
    }
   ],
   "source": [
    "age=first.find_all('span')[13].i.next_sibling\n",
    "age"
   ]
  },
  {
   "cell_type": "code",
   "execution_count": 141,
   "metadata": {},
   "outputs": [
    {
     "data": {
      "text/plain": [
       "'1 Year'"
      ]
     },
     "execution_count": 141,
     "metadata": {},
     "output_type": "execute_result"
    }
   ],
   "source": [
    "age=age.replace(\"<\",\"\")\n",
    "age=age.strip()\n",
    "age"
   ]
  },
  {
   "cell_type": "code",
   "execution_count": 142,
   "metadata": {},
   "outputs": [
    {
     "data": {
      "text/plain": [
       "1"
      ]
     },
     "execution_count": 142,
     "metadata": {},
     "output_type": "execute_result"
    }
   ],
   "source": [
    "age=int(''.join(itertools.takewhile(str.isdigit, age)))\n",
    "age"
   ]
  },
  {
   "cell_type": "code",
   "execution_count": 143,
   "metadata": {},
   "outputs": [
    {
     "data": {
      "text/plain": [
       "'2 car park'"
      ]
     },
     "execution_count": 143,
     "metadata": {},
     "output_type": "execute_result"
    }
   ],
   "source": [
    "park=first.find_all('span')[15].text\n",
    "park"
   ]
  },
  {
   "cell_type": "code",
   "execution_count": 144,
   "metadata": {},
   "outputs": [
    {
     "data": {
      "text/plain": [
       "2"
      ]
     },
     "execution_count": 144,
     "metadata": {},
     "output_type": "execute_result"
    }
   ],
   "source": [
    "park=int(''.join(itertools.takewhile(str.isdigit, park)))\n",
    "park"
   ]
  },
  {
   "cell_type": "code",
   "execution_count": 145,
   "metadata": {},
   "outputs": [],
   "source": [
    "ppsm=first.find_all('span')[14].i.next_sibling\n"
   ]
  },
  {
   "cell_type": "code",
   "execution_count": 146,
   "metadata": {},
   "outputs": [
    {
     "data": {
      "text/plain": [
       "'2241 / Sq Feet'"
      ]
     },
     "execution_count": 146,
     "metadata": {},
     "output_type": "execute_result"
    }
   ],
   "source": [
    "ppsm"
   ]
  },
  {
   "cell_type": "code",
   "execution_count": 147,
   "metadata": {},
   "outputs": [
    {
     "data": {
      "text/plain": [
       "2241.0"
      ]
     },
     "execution_count": 147,
     "metadata": {},
     "output_type": "execute_result"
    }
   ],
   "source": [
    "ppsm=ppsm.strip()\n",
    "ppsm= float(''.join(itertools.takewhile(str.isdigit, ppsm)))\n",
    "ppsm"
   ]
  },
  {
   "cell_type": "code",
   "execution_count": 148,
   "metadata": {},
   "outputs": [
    {
     "data": {
      "text/plain": [
       "'2 Total Floors'"
      ]
     },
     "execution_count": 148,
     "metadata": {},
     "output_type": "execute_result"
    }
   ],
   "source": [
    "floors=first.find_all('span')[16].text\n",
    "floors"
   ]
  },
  {
   "cell_type": "code",
   "execution_count": 149,
   "metadata": {},
   "outputs": [
    {
     "data": {
      "text/plain": [
       "2"
      ]
     },
     "execution_count": 149,
     "metadata": {},
     "output_type": "execute_result"
    }
   ],
   "source": [
    "floors= int(''.join(itertools.takewhile(str.isdigit, floors)))\n",
    "floors"
   ]
  },
  {
   "cell_type": "code",
   "execution_count": 150,
   "metadata": {},
   "outputs": [
    {
     "data": {
      "text/plain": [
       "'2 bath'"
      ]
     },
     "execution_count": 150,
     "metadata": {},
     "output_type": "execute_result"
    }
   ],
   "source": [
    "baths=first.find_all('span')[17].text\n",
    "baths"
   ]
  },
  {
   "cell_type": "code",
   "execution_count": 151,
   "metadata": {},
   "outputs": [
    {
     "data": {
      "text/plain": [
       "2"
      ]
     },
     "execution_count": 151,
     "metadata": {},
     "output_type": "execute_result"
    }
   ],
   "source": [
    "baths=int(''.join(itertools.takewhile(str.isdigit, baths)))\n",
    "baths"
   ]
  },
  {
   "cell_type": "code",
   "execution_count": 152,
   "metadata": {},
   "outputs": [
    {
     "data": {
      "text/plain": [
       "'Semi Furnished'"
      ]
     },
     "execution_count": 152,
     "metadata": {},
     "output_type": "execute_result"
    }
   ],
   "source": [
    "furnish=first.find_all('span')[18].text\n",
    "furnish"
   ]
  },
  {
   "cell_type": "code",
   "execution_count": 153,
   "metadata": {},
   "outputs": [],
   "source": [
    "areas = []\n",
    "prices = []\n",
    "configs = []\n",
    "bathrooms = []\n",
    "num_floors = []\n",
    "furnishes = []\n",
    "prices_per = []\n",
    "parking = []\n",
    "age_apt = []\n",
    "sale_types = []"
   ]
  },
  {
   "cell_type": "code",
   "execution_count": 154,
   "metadata": {},
   "outputs": [
    {
     "ename": "AttributeError",
     "evalue": "'NoneType' object has no attribute 'next_sibling'",
     "output_type": "error",
     "traceback": [
      "\u001b[1;31m---------------------------------------------------------------------------\u001b[0m",
      "\u001b[1;31mAttributeError\u001b[0m                            Traceback (most recent call last)",
      "\u001b[1;32m<ipython-input-154-0c13456f9f00>\u001b[0m in \u001b[0;36m<module>\u001b[1;34m\u001b[0m\n\u001b[0;32m      1\u001b[0m \u001b[1;32mfor\u001b[0m \u001b[0mcontainer\u001b[0m \u001b[1;32min\u001b[0m \u001b[0mhouse_containers\u001b[0m\u001b[1;33m[\u001b[0m\u001b[1;36m1\u001b[0m\u001b[1;33m:\u001b[0m\u001b[1;33m]\u001b[0m\u001b[1;33m:\u001b[0m\u001b[1;33m\u001b[0m\u001b[1;33m\u001b[0m\u001b[0m\n\u001b[0;32m      2\u001b[0m     \u001b[1;31m#areas\u001b[0m\u001b[1;33m\u001b[0m\u001b[1;33m\u001b[0m\u001b[1;33m\u001b[0m\u001b[0m\n\u001b[1;32m----> 3\u001b[1;33m     \u001b[0marea\u001b[0m\u001b[1;33m=\u001b[0m\u001b[0mcontainer\u001b[0m\u001b[1;33m.\u001b[0m\u001b[0mfind_all\u001b[0m\u001b[1;33m(\u001b[0m\u001b[1;34m'span'\u001b[0m\u001b[1;33m)\u001b[0m\u001b[1;33m[\u001b[0m\u001b[1;36m12\u001b[0m\u001b[1;33m]\u001b[0m\u001b[1;33m.\u001b[0m\u001b[0mi\u001b[0m\u001b[1;33m.\u001b[0m\u001b[0mnext_sibling\u001b[0m\u001b[1;33m\u001b[0m\u001b[1;33m\u001b[0m\u001b[0m\n\u001b[0m\u001b[0;32m      4\u001b[0m     \u001b[0marea\u001b[0m\u001b[1;33m=\u001b[0m\u001b[0marea\u001b[0m\u001b[1;33m.\u001b[0m\u001b[0mstrip\u001b[0m\u001b[1;33m(\u001b[0m\u001b[1;33m)\u001b[0m\u001b[1;33m\u001b[0m\u001b[1;33m\u001b[0m\u001b[0m\n\u001b[0;32m      5\u001b[0m     \u001b[0marea\u001b[0m\u001b[1;33m=\u001b[0m\u001b[0mfloat\u001b[0m\u001b[1;33m(\u001b[0m\u001b[1;34m''\u001b[0m\u001b[1;33m.\u001b[0m\u001b[0mjoin\u001b[0m\u001b[1;33m(\u001b[0m\u001b[0mitertools\u001b[0m\u001b[1;33m.\u001b[0m\u001b[0mtakewhile\u001b[0m\u001b[1;33m(\u001b[0m\u001b[0mstr\u001b[0m\u001b[1;33m.\u001b[0m\u001b[0misdigit\u001b[0m\u001b[1;33m,\u001b[0m \u001b[0marea\u001b[0m\u001b[1;33m)\u001b[0m\u001b[1;33m)\u001b[0m\u001b[1;33m)\u001b[0m\u001b[1;33m\u001b[0m\u001b[1;33m\u001b[0m\u001b[0m\n",
      "\u001b[1;31mAttributeError\u001b[0m: 'NoneType' object has no attribute 'next_sibling'"
     ]
    }
   ],
   "source": [
    "for container in house_containers[1:]:\n",
    "    #areas\n",
    "    area=container.find_all('span')[12].i.next_sibling\n",
    "    area=area.strip()\n",
    "    area=float(''.join(itertools.takewhile(str.isdigit, area)))\n",
    "    areas.append(area)\n",
    "    \n",
    "    #prices\n",
    "    price = first.find_all('span', class_=\"price primary\")[0].text\n",
    "    price=price.replace(\"Crore\",\"0\")\n",
    "    price=price.replace(\" \",\"\")\n",
    "    price=price.replace(\".\",\"\")\n",
    "\n",
    "    price=price.strip()\n",
    "    \n",
    "    price=int(''.join(itertools.takewhile(str.isdigit, price)))\n",
    "    prices.append(price)\n",
    "    \n",
    "    #configs\n",
    "    config= first.find_all('span', class_=\"feature primary\")[0].i.next_sibling\n",
    "    config=config.strip()\n",
    "    config=config[:5]\n",
    "    config=int(''.join(itertools.takewhile(str.isdigit, config)))\n",
    "    configs.append(config)\n",
    "    \n",
    "    #baths\n",
    "    baths=first.find_all('span')[17].text\n",
    "    baths=int(''.join(itertools.takewhile(str.isdigit, baths)))\n",
    "    bathrooms.append(baths)\n",
    "    \n",
    "    #num floors\n",
    "    floors=first.find_all('span')[16].text\n",
    "    floors=floors.strip()\n",
    "    floors= int(''.join(itertools.takewhile(str.isdigit, floors)))\n",
    "    num_floors.append(floors)\n",
    "    \n",
    "    #furnished\n",
    "    furnish=first.find_all('span')[18].text\n",
    "    furnishes.append(furnish)\n",
    "    \n",
    "    #prices per square foot\n",
    "    ppsm=first.find_all('span')[14].i.next_sibling\n",
    "    ppsm=ppsm.strip()\n",
    "    ppsm= float(''.join(itertools.takewhile(str.isdigit, ppsm)))\n",
    "    prices_per.append(ppsm)\n",
    "    \n",
    "    #parkings\n",
    "    park=first.find_all('span')[15].text\n",
    "    park=int(''.join(itertools.takewhile(str.isdigit, park)))\n",
    "    parking.append(park)\n",
    "    \n",
    "    #age\n",
    "    age=first.find_all('span')[13].i.next_sibling\n",
    "    age=age.replace(\"<\",\"\")\n",
    "    age=age.strip()\n",
    "    age=int(''.join(itertools.takewhile(str.isdigit, age)))\n",
    "    age_apt.append(age)\n",
    "    \n",
    "    #sale_type\n",
    "    sale_type= first.find_all('span')[11].i.next_sibling\n",
    "    sale_type=sale_type.strip()\n",
    "    sale_types.append(sale_type)\n",
    "    "
   ]
  },
  {
   "cell_type": "code",
   "execution_count": null,
   "metadata": {},
   "outputs": [],
   "source": []
  }
 ],
 "metadata": {
  "kernelspec": {
   "display_name": "TensorFlow",
   "language": "python",
   "name": "tf-gpu"
  },
  "language_info": {
   "codemirror_mode": {
    "name": "ipython",
    "version": 3
   },
   "file_extension": ".py",
   "mimetype": "text/x-python",
   "name": "python",
   "nbconvert_exporter": "python",
   "pygments_lexer": "ipython3",
   "version": "3.7.4"
  }
 },
 "nbformat": 4,
 "nbformat_minor": 2
}
